{
 "cells": [
  {
   "cell_type": "code",
   "execution_count": 19,
   "metadata": {
    "collapsed": true
   },
   "outputs": [],
   "source": [
    "import cv2 as cv\n",
    "from matplotlib import pyplot as plt"
   ]
  },
  {
   "cell_type": "code",
   "execution_count": 20,
   "metadata": {
    "collapsed": true
   },
   "outputs": [],
   "source": [
    "img = cv.imread(\"D:/python/test.jpg\")"
   ]
  },
  {
   "cell_type": "code",
   "execution_count": 21,
   "metadata": {},
   "outputs": [
    {
     "data": {
      "text/plain": [
       "array([[[248, 245, 238],\n",
       "        [247, 244, 237],\n",
       "        [250, 247, 240],\n",
       "        ..., \n",
       "        [254, 250, 241],\n",
       "        [254, 250, 241],\n",
       "        [254, 250, 241]],\n",
       "\n",
       "       [[182, 179, 172],\n",
       "        [161, 158, 151],\n",
       "        [153, 150, 143],\n",
       "        ..., \n",
       "        [252, 248, 239],\n",
       "        [252, 248, 239],\n",
       "        [252, 248, 239]],\n",
       "\n",
       "       [[ 67,  64,  57],\n",
       "        [ 56,  53,  46],\n",
       "        [ 51,  48,  41],\n",
       "        ..., \n",
       "        [252, 248, 237],\n",
       "        [252, 248, 237],\n",
       "        [252, 248, 237]],\n",
       "\n",
       "       ..., \n",
       "       [[221, 216, 212],\n",
       "        [220, 215, 211],\n",
       "        [222, 217, 213],\n",
       "        ..., \n",
       "        [233, 229, 218],\n",
       "        [235, 228, 218],\n",
       "        [235, 229, 217]],\n",
       "\n",
       "       [[220, 215, 211],\n",
       "        [219, 214, 210],\n",
       "        [221, 216, 212],\n",
       "        ..., \n",
       "        [232, 225, 215],\n",
       "        [233, 226, 216],\n",
       "        [234, 227, 217]],\n",
       "\n",
       "       [[221, 216, 212],\n",
       "        [220, 215, 211],\n",
       "        [220, 215, 211],\n",
       "        ..., \n",
       "        [232, 225, 215],\n",
       "        [233, 226, 216],\n",
       "        [234, 227, 217]]], dtype=uint8)"
      ]
     },
     "execution_count": 21,
     "metadata": {},
     "output_type": "execute_result"
    }
   ],
   "source": [
    "cv.cvtColor(img, cv.COLOR_BGR2RGB)"
   ]
  },
  {
   "cell_type": "code",
   "execution_count": 22,
   "metadata": {},
   "outputs": [],
   "source": [
    "cv.imshow(\"Image\",img)"
   ]
  },
  {
   "cell_type": "code",
   "execution_count": 23,
   "metadata": {},
   "outputs": [
    {
     "data": {
      "text/plain": [
       "-1"
      ]
     },
     "execution_count": 23,
     "metadata": {},
     "output_type": "execute_result"
    }
   ],
   "source": [
    "cv.waitKey(0)"
   ]
  }
 ],
 "metadata": {
  "kernelspec": {
   "display_name": "Python 3",
   "language": "python",
   "name": "python3"
  },
  "language_info": {
   "codemirror_mode": {
    "name": "ipython",
    "version": 3
   },
   "file_extension": ".py",
   "mimetype": "text/x-python",
   "name": "python",
   "nbconvert_exporter": "python",
   "pygments_lexer": "ipython3",
   "version": "3.6.1"
  }
 },
 "nbformat": 4,
 "nbformat_minor": 2
}
